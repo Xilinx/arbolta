{
 "cells": [
  {
   "cell_type": "markdown",
   "metadata": {},
   "source": [
    "# Simulating an Integer Vector MAC w/ Arbolta\n",
    "In this notebook we will:\n",
    "- Synthesize an integer vector MAC design with Yosys\n",
    "- Simulate our design and collect some statistics\n",
    "\n",
    "## Design Synthesis\n",
    "We'll be looking at a basic integer vector MAC design in `designs/int_vector_mac.sv` whose top-module interface looks like:\n",
    "```systemverilog\n",
    "module int_vector_mac #(\n",
    "  parameter  int unsigned DataWidth,\n",
    "  parameter  int unsigned Size,\n",
    "  parameter  int unsigned AccumulatorWidth\n",
    ")(\n",
    "  input  logic                               clock,\n",
    "  input  logic                               reset_i,\n",
    "  input  logic signed [DataWidth-1:0]        op0_vec_i [Size],\n",
    "  input  logic signed [DataWidth-1:0]        op1_vec_i [Size],\n",
    "  output logic signed [AccumulatorWidth-1:0] mac_o\n",
    ");\n",
    "```\n",
    "This design asynchronously calculates the dot-product of two signed-integer vectors (`op0_vec_1`, `op1_vec_i`) and accumulates the output into a register (`mac_o`) every clock cycle. Resetting the design will clear the accumulator register.\n",
    "\n",
    "### Cell Library\n",
    "Our RTL will be synthesized to the cells described in the Liberty cell library `cells/cells.lib`. This library defines the basic cells `BUF`, `NOT`, `NAND`, `NOR`, and `DFF`. Each cell's area roughly equals their respective amount of CMOS transistors.\n",
    "\n",
    "### Running Synthesis"
   ]
  },
  {
   "cell_type": "code",
   "execution_count": null,
   "metadata": {},
   "outputs": [],
   "source": [
    "# Ensure that Yosys is present\n",
    "# or install from https://github.com/YosysHQ/oss-cad-suite-build\n",
    "! which yosys"
   ]
  },
  {
   "cell_type": "markdown",
   "metadata": {},
   "source": [
    "The Yosys synthesis script for our design is `synth.tcl` which can be run from the command-line using:\n",
    "```bash\n",
    "yosys -c synth.tcl -- <parameter>=<val> ...\n",
    "```\n",
    "\n",
    "The `<parameter>=<val>` arguments can used to override/set the module parameters of `int_vector_mac`. For example, we can synthesize a 16-element, 8-bit integer MAC with a 32-bit accumulator using:\n",
    "\n",
    "```bash\n",
    "yosys -c synth.tcl -- DataWidth=8 Size=16 AccumulatorWidth=32\n",
    "```\n",
    "\n",
    "The synthesis script will generate the following in the `output` directory:\n",
    "- `schematic.dot`: [DOT](https://en.wikipedia.org/wiki/DOT_(graph_description_language)) graph of our elaborated design\n",
    "- `synth.json`: Synthesis netlist in JSON format\n",
    "\n",
    "**We will use the function `run_synth` which is a wrapper around invoking `synth.tcl`.**"
   ]
  },
  {
   "cell_type": "code",
   "execution_count": null,
   "metadata": {},
   "outputs": [],
   "source": [
    "from typing import TypedDict\n",
    "import subprocess\n",
    "\n",
    "# Class to hold configuration for our int vector MAC\n",
    "class SynthConfig(TypedDict):\n",
    "    DataWidth: int\n",
    "    Size: int\n",
    "    AccumulatorWidth: int\n",
    "\n",
    "# Run synth.tcl with our parameters\n",
    "def run_synth(synth_config: SynthConfig) -> None:\n",
    "    synth_params = [f\"{p_name}={p_val}\" for (p_name, p_val) in synth_config.items()]\n",
    "    command = ['yosys', '-c', 'synth.tcl', '--', *synth_params]\n",
    "    p = subprocess.Popen(command, stdout=subprocess.PIPE)\n",
    "    out, err = p.communicate()\n",
    "    assert err is None"
   ]
  },
  {
   "cell_type": "markdown",
   "metadata": {},
   "source": [
    "### Loading Design into Arbolta\n",
    "Arbolta needs to know what each port of our design does, and how to interpret its bits. This is done with the configuration class `DesignConfig`. `DesignConfig` is a `dict` wrapper which lets us configure each port with a `PortConfig` class whose syntax looks like:\n",
    "\n",
    "```Python\n",
    "PortConfig(shape=(int, int), dtype=np.dtype, clock=bool, reset=bool)\n",
    "```\n",
    "\n",
    "Let's continue with our example of a 16-element, 8-bit integer MAC with a 32-bit accumulator."
   ]
  },
  {
   "cell_type": "code",
   "execution_count": null,
   "metadata": {},
   "outputs": [],
   "source": [
    "import numpy as np\n",
    "from arbolta import HardwareDesign, DesignConfig, PortConfig\n",
    "\n",
    "DESIGN_CONFIG = DesignConfig(\n",
    "    clock     = PortConfig(clock=True), # Don't need to specify shape\n",
    "    reset_i   = PortConfig(reset=True), # Don't need to specify shape\n",
    "    op0_vec_i = PortConfig(shape=(1, 16), dtype=np.int8),\n",
    "    op1_vec_i = PortConfig(shape=(1, 16), dtype=np.int8),\n",
    "    mac_o     = PortConfig(shape=(1, 1), dtype=np.int32)\n",
    ")\n",
    "\n",
    "SYNTH_CONFIG = SynthConfig(\n",
    "    DataWidth        = 8,\n",
    "    Size             = 16,\n",
    "    AccumulatorWidth = 32\n",
    ")\n",
    "\n",
    "run_synth(SYNTH_CONFIG)\n",
    "\n",
    "design = HardwareDesign(\"int_vector_mac\", \"output/synth.json\", DESIGN_CONFIG)"
   ]
  },
  {
   "cell_type": "markdown",
   "metadata": {},
   "source": [
    "(*optional*) Explore the elaborated design (pre-synthesis):"
   ]
  },
  {
   "cell_type": "code",
   "execution_count": null,
   "metadata": {},
   "outputs": [],
   "source": [
    "from graphviz_anywidget import graphviz_widget\n",
    "\n",
    "graphviz_widget(open(\"output/schematic.dot\", 'r').read())"
   ]
  },
  {
   "cell_type": "markdown",
   "metadata": {},
   "source": [
    "## Simulating our Design\n",
    "### Cell Breakdown\n",
    "See how many of the cells described in `hardware/cells.lib` are in the synthesized design:"
   ]
  },
  {
   "cell_type": "code",
   "execution_count": null,
   "metadata": {},
   "outputs": [],
   "source": [
    "from pandas import DataFrame\n",
    "\n",
    "# Cell breakdown for design\n",
    "cell_df = DataFrame({design.top_module: design.cell_breakdown()})\n",
    "cell_df"
   ]
  },
  {
   "cell_type": "markdown",
   "metadata": {},
   "source": [
    "### Area Breakdown\n",
    "See how much area is taken up by each submodule of our design:"
   ]
  },
  {
   "cell_type": "code",
   "execution_count": null,
   "metadata": {},
   "outputs": [],
   "source": [
    "# Extract HDL name from each nested module instance\n",
    "def filter_module_name(name: str) -> str:\n",
    "        return list(filter(lambda x: not x.startswith('$') and '=' not in x, \n",
    "                           name.split(\"\\\\\")))[0]\n",
    "\n",
    "# Get area breakdown for design\n",
    "# Area ~= transistor count\n",
    "area_df = DataFrame([{'module': filter_module_name(module), \n",
    "                      'area': design.area(module)} for module in design.module_names()])\n",
    "\n",
    "area_df"
   ]
  },
  {
   "cell_type": "code",
   "execution_count": null,
   "metadata": {},
   "outputs": [],
   "source": [
    "%matplotlib widget\n",
    "from matplotlib import pyplot as plt\n",
    "\n",
    "# Plot area breakdown\n",
    "area_df.plot(kind='barh', x='module', xlabel='Area (# of Transistors)', ylabel='')\n",
    "plt.tight_layout()\n",
    "plt.show()"
   ]
  },
  {
   "cell_type": "markdown",
   "metadata": {},
   "source": [
    "### Power Analysis\n",
    "Throughout the simulation, Arbolta records the number of times each signal has been toggled. We can use these bit-flips as a proxy for dynamic power. \n",
    "\n",
    "We can run random inputs through our design to find the average number of bit-flips it incurs per-MAC operation."
   ]
  },
  {
   "cell_type": "code",
   "execution_count": null,
   "metadata": {},
   "outputs": [],
   "source": [
    "# Helper function to pass arbitrary numpy arrays through our MAC design\n",
    "# Expects inputs to have shape (runs, vector size, 2)\n",
    "# Returns the average # of bit-flips per MAC operation\n",
    "def run_mac(design: HardwareDesign, inputs: np.ndarray) -> float:\n",
    "    runs = inputs.shape[0]\n",
    "    actual_mac = np.zeros(runs, dtype=np.int32)\n",
    "\n",
    "    design.reset() # Reset all toggle counts, signals, and flip-flops\n",
    "    for i, input_pair in enumerate(inputs):\n",
    "        design.reset_clocked() # Reset accumulator\n",
    "        design.ports.op0_vec_i = input_pair[:, 0]\n",
    "        design.ports.op1_vec_i = input_pair[:, 1]\n",
    "        design.eval_clocked() # Do MAC\n",
    "        \n",
    "        actual_mac[i] = design.ports.mac_o.item()\n",
    "\n",
    "    # Check correctness of design\n",
    "    expected_mac = (inputs[:,:,0] * inputs[:,:,1]).sum(axis=1)\n",
    "    assert np.allclose(actual_mac, expected_mac)\n",
    "\n",
    "    return  design.total_toggle_count() / runs"
   ]
  },
  {
   "cell_type": "code",
   "execution_count": null,
   "metadata": {},
   "outputs": [],
   "source": [
    "INT8_MIN, INT8_MAX = -128, 127 # Range of our operand datatype\n",
    "VECTOR_SIZE        = 16        # Size of int vector MAC\n",
    "RUNS               = 1000      # Number of MAC operations to average over\n",
    "\n",
    "# Generate random, uniform inputs\n",
    "inputs = np.random.randint(INT8_MIN, INT8_MAX + 1, (RUNS, VECTOR_SIZE, 2))\n",
    "\n",
    "average_toggles = run_mac(design, inputs)\n",
    "print(f\"Average bit-flips per MAC operation = {average_toggles}\")"
   ]
  },
  {
   "cell_type": "code",
   "execution_count": null,
   "metadata": {},
   "outputs": [],
   "source": [
    "# Get power breakdown per-submodule\n",
    "power_df = DataFrame([{'module': filter_module_name(module), \n",
    "                      'toggles': design.total_toggle_count(module)} for module in design.module_names()])\n",
    "power_df['toggles'] = power_df['toggles'].div(RUNS)\n",
    "\n",
    "power_df"
   ]
  },
  {
   "cell_type": "code",
   "execution_count": null,
   "metadata": {},
   "outputs": [],
   "source": [
    "# Plot power breakdown\n",
    "power_df.plot(kind='barh', x='module', xlabel='Avg. Bit-Flips per MAC Operation', ylabel='')\n",
    "plt.tight_layout()\n",
    "plt.show()"
   ]
  }
 ],
 "metadata": {
  "kernelspec": {
   "display_name": "gatesim",
   "language": "python",
   "name": "python3"
  },
  "language_info": {
   "codemirror_mode": {
    "name": "ipython",
    "version": 3
   },
   "file_extension": ".py",
   "mimetype": "text/x-python",
   "name": "python",
   "nbconvert_exporter": "python",
   "pygments_lexer": "ipython3"
  }
 },
 "nbformat": 4,
 "nbformat_minor": 2
}
